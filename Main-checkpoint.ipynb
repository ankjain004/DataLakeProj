{
 "cells": [
  {
   "cell_type": "code",
   "execution_count": 10,
   "metadata": {
    "editable": true
   },
   "outputs": [],
   "source": [
    "import configparser\n",
    "from datetime import datetime\n",
    "import os\n",
    "from pyspark.sql import SparkSession\n",
    "from pyspark.sql.functions import udf, col\n",
    "from pyspark.sql.functions import year, month, dayofmonth, hour, weekofyear, date_format\n",
    "from pyspark.sql import types\n",
    "from pyspark.sql.functions import monotonically_increasing_id"
   ]
  },
  {
   "cell_type": "code",
   "execution_count": 11,
   "metadata": {
    "editable": true
   },
   "outputs": [],
   "source": [
    "config = configparser.ConfigParser()\n",
    "config.read_file(open('dl.cfg'))\n",
    "\n",
    "os.environ[\"AWS_ACCESS_KEY_ID\"]= config['AWS']['AWS_ACCESS_KEY_ID']\n",
    "os.environ[\"AWS_SECRET_ACCESS_KEY\"]= config['AWS']['AWS_SECRET_ACCESS_KEY']\n"
   ]
  },
  {
   "cell_type": "code",
   "execution_count": 13,
   "metadata": {
    "editable": true
   },
   "outputs": [],
   "source": [
    "def create_spark_session():\n",
    "    spark = SparkSession \\\n",
    "        .builder \\\n",
    "        .config(\"spark.jars.packages\", \"org.apache.hadoop:hadoop-aws:2.7.0\") \\\n",
    "        .getOrCreate()\n",
    "    return spark\n"
   ]
  },
  {
   "cell_type": "code",
   "execution_count": 14,
   "metadata": {
    "editable": true
   },
   "outputs": [],
   "source": [
    "def process_song_data(spark, input_data, output_data):\n",
    "    # get filepath to song data file\n",
    "    song_data = input_data + \"song_data/A/A/A/*.json\"\n",
    "    \n",
    "    # read song data file\n",
    "    df = spark.read.json(song_data)\n",
    "\n",
    "    # extract columns to create songs table\n",
    "    songs_table = df.select(\"song_id\",\"title\",\"artist_id\",\"year\",\"duration\").dropDuplicates([\"song_id\"])\n",
    "\n",
    "\n",
    "    # write songs table to parquet files partitioned by year and artist\n",
    "\n",
    "    songs_table_path = output_data + \"songs_table.parquet\"\n",
    "    songs_table.write.mode('overwrite').partitionBy(\"year\",\"artist_id\").parquet(songs_table_path)\n",
    "\n",
    "    # extract columns to create artists table\n",
    "\n",
    "    artists_table = df.select(\"artist_id\",\"artist_name\",col(\"artist_location\").alias(\"Location\"),col(\"artist_latitude\").alias(\"latitude\"),col(\"artist_longitude\").alias(\"longitude\")).dropDuplicates([\"artist_id\"])\n",
    "    \n",
    "    # write artists table to parquet files\n",
    "\n",
    "    artists_table_path = output_data + \"artists_table.parquet\"\n",
    "    artists_table.write.mode('overwrite').parquet(artists_table_path)"
   ]
  },
  {
   "cell_type": "code",
   "execution_count": 15,
   "metadata": {
    "editable": true
   },
   "outputs": [],
   "source": [
    "def process_log_data(spark, input_data, output_data):\n",
    "    \n",
    "    log_data = input_data +\"log_data/2018/11/*.json\"\n",
    "    song_data = input_data + \"song_data/A/A/A/*.json\"\n",
    "\n",
    "    # read log data file\n",
    "\n",
    "    log_df = spark.read.json(log_data)\n",
    "\n",
    "    # filter by actions for song plays\n",
    "\n",
    "    log_df = log_df.where(log_df.page==\"NextSong\")\n",
    "\n",
    "    # extract columns for users table    \n",
    "    users_table = log_df.select(col(\"userId\").alias(\"user_id\"),col(\"firstName\").alias(\"first_name\"),col(\"lastName\").alias(\"last_name\"),\"gender\",\"level\").dropDuplicates([\"user_id\"])\n",
    "    \n",
    "    # write users table to parquet files\n",
    "    users_table_path = output_data + \"users_table.parquet\"\n",
    "    users_table.write.mode('overwrite').parquet(users_table_path)\n",
    "\n",
    "     # create timestamp column from original timestamp column\n",
    "    \n",
    "    get_timestamp = udf(lambda x: datetime.fromtimestamp(int(x)/1000.0),types.TimestampType())\n",
    "    log_df = log_df.withColumn(\"timestamp\",get_timestamp(log_df.ts)) \n",
    "    \n",
    "    # create datetime column from original timestamp column\n",
    "    #get_datetime = udf()\n",
    "\n",
    "    log_df = log_df.withColumn(\"datetime\",get_timestamp(log_df.ts)) \n",
    "#log_df.printSchema()\n",
    "#log_df.show(5)\n",
    "\n",
    "    time_table_path = output_data + \"time_table.parquet\"\n",
    "# extract columns to create time table\n",
    "\n",
    "    time_table = log_df.select(col(\"datetime\").alias(\"start_Time\"),\n",
    "                        hour(log_df.datetime).alias(\"hour\"),\n",
    "                        dayofmonth(log_df.datetime).alias(\"day\"),\n",
    "                        weekofyear(log_df.datetime).alias(\"week\"),\n",
    "                        month(log_df.datetime).alias(\"month\"),\n",
    "                        year(log_df.datetime).alias(\"year\"),\n",
    "                        date_format(log_df.datetime,'E').alias(\"weekday\")\n",
    "                       ).dropDuplicates([\"start_Time\"])\n",
    "#time_table.printSchema()\n",
    "#time_table.show(5)\n",
    "    # write time table to parquet files partitioned by year and month\n",
    "    \n",
    "    time_table = time_table.write.mode('overwrite').partitionBy(\"year\",\"month\").parquet(time_table_path)\n",
    "\n",
    "    songplays_table_path = output_data + \"songplays_table.parquet\"\n",
    "\n",
    "# read in song data to use for songplays table\n",
    "    songs_df = spark.read.json(song_data)\n",
    "#songs_df.printSchema()\n",
    "\n",
    "    song_log_join = log_df.join(songs_df, log_df.artist == songs_df.artist_name, 'inner')\n",
    "#song_log_join.printSchema()\n",
    "#song_log_join.show(1)\n",
    "    # extract columns from joined song and log datasets to create songplays table \n",
    "    songplays_table = song_log_join.select(col(\"datetime\").alias(\"start_Time\"),\n",
    "                             col(\"userId\").alias(\"user_Id\"),\n",
    "                             \"level\",\"song_id\",\"artist_id\",col(\"sessionId\").alias(\"session_Id\"),\n",
    "                             \"location\",col(\"userAgent\").alias(\"user_agent\"),\n",
    "                             year(song_log_join.datetime).alias(\"year\"),\n",
    "                             month(song_log_join.datetime).alias(\"month\")          \n",
    "                                )\n",
    "    songplays_table = songplays_table.withColumn(\"songplay_id\",monotonically_increasing_id())\n",
    "#songplays_table.printSchema()\n",
    "#songplays_table.show(10, truncate=False)\n",
    "    # write songplays table to parquet files partitioned by year and month\n",
    "    songplays_table = songplays_table.write.mode('overwrite').partitionBy(\"year\",\"month\").parquet(songplays_table_path)\n",
    "\n"
   ]
  },
  {
   "cell_type": "code",
   "execution_count": 16,
   "metadata": {
    "editable": true
   },
   "outputs": [],
   "source": [
    "def main():\n",
    "    spark = create_spark_session()\n",
    "    input_data = \"s3a://udacity-dend/\"\n",
    "    output_data = \"s3a://ank04bucket/DL_Proj_\"\n",
    "    \n",
    "    process_song_data(spark, input_data, output_data)    \n",
    "    process_log_data(spark, input_data, output_data)\n",
    "\n",
    "\n",
    "if __name__ == \"__main__\":\n",
    "    main()\n"
   ]
  },
  {
   "cell_type": "code",
   "execution_count": null,
   "metadata": {
    "editable": true
   },
   "outputs": [],
   "source": []
  }
 ],
 "metadata": {
  "kernelspec": {
   "display_name": "Python 3",
   "language": "python",
   "name": "python3"
  },
  "language_info": {
   "codemirror_mode": {
    "name": "ipython",
    "version": 3
   },
   "file_extension": ".py",
   "mimetype": "text/x-python",
   "name": "python",
   "nbconvert_exporter": "python",
   "pygments_lexer": "ipython3",
   "version": "3.6.3"
  }
 },
 "nbformat": 4,
 "nbformat_minor": 4
}
